{
 "cells": [
  {
   "cell_type": "code",
   "execution_count": 1,
   "metadata": {},
   "outputs": [],
   "source": [
    "# imports \n",
    "import numpy as np\n",
    "\n",
    "import torch \n",
    "import torch.nn as nn\n",
    "import torchtext\n",
    "import torchtext.data as data\n",
    "from torchtext.vocab import GloVe"
   ]
  },
  {
   "cell_type": "code",
   "execution_count": 2,
   "metadata": {},
   "outputs": [],
   "source": [
    "device = torch.device('cuda' if torch.cuda.is_available() else 'cpu')"
   ]
  },
  {
   "cell_type": "code",
   "execution_count": 3,
   "metadata": {},
   "outputs": [],
   "source": [
    "glove = GloVe(name='6B', dim=300)"
   ]
  },
  {
   "attachments": {},
   "cell_type": "markdown",
   "metadata": {},
   "source": [
    "### Extracting data from GloVe Object\n",
    "Grab the vocab, word embedding mappings, and embeddings"
   ]
  },
  {
   "cell_type": "code",
   "execution_count": 4,
   "metadata": {},
   "outputs": [
    {
     "name": "stdout",
     "output_type": "stream",
     "text": [
      "Vocab len: 400000\n",
      "Embeddings len: 400000\n"
     ]
    }
   ],
   "source": [
    "vocab = np.array(glove.itos)\n",
    "vocab_emb_mapping_dict = glove.stoi\n",
    "embeddings = np.array(glove.vectors)\n",
    "\n",
    "print(\"Vocab len:\", len(vocab))\n",
    "print(\"Embeddings len:\", len(embeddings))"
   ]
  },
  {
   "attachments": {},
   "cell_type": "markdown",
   "metadata": {},
   "source": [
    "#### Add Special Tokens To Vocab\n",
    "Our model requires special tokens, (these will all be wrapped by <>)\n",
    "- **sos** - for start of sentence \n",
    "- **eos** - end of sentence \n",
    "- **unk** - unknown token\n",
    "- **pad** - padding\n",
    "\n",
    "This should also be reflected in the embeddings"
   ]
  },
  {
   "cell_type": "code",
   "execution_count": 5,
   "metadata": {},
   "outputs": [],
   "source": [
    "special_tokens = [\"<pad>\", \"<unk>\", \"<sos>\", \"<eos>\"]\n",
    "\n",
    "# increment every token mapping in the embedding index to accomodate the addition of the tokens\n",
    "for token, mapping_index in vocab_emb_mapping_dict.items(): \n",
    "  vocab_emb_mapping_dict[token] = int(mapping_index) + len(special_tokens)\n",
    "\n",
    "for i, token in enumerate(special_tokens):\n",
    "  vocab = np.insert(vocab, i, token)\n",
    "\n",
    "  vocab_emb_mapping_dict[token] = i\n",
    "\n",
    "pad_embedding = np.zeros((1, embeddings.shape[1]))   #embedding for '<pad>' token, for now just zeroes\n",
    "unk_embedding = np.mean(embeddings, axis=0, keepdims=True)    #embedding for '<unk>' token, for now just mean of all other tokens\n",
    "sos_embedding = np.mean(embeddings, axis=0, keepdims=True)    #embedding for '<sos>' token, for now just mean of all other tokens\n",
    "eos_embedding = np.mean(embeddings, axis=0, keepdims=True)    #embedding for '<eos>' token, for now just mean of all other tokens\n",
    "\n",
    "embeddings = np.vstack((pad_embedding, unk_embedding, sos_embedding, eos_embedding, embeddings))"
   ]
  },
  {
   "cell_type": "code",
   "execution_count": 6,
   "metadata": {},
   "outputs": [
    {
     "data": {
      "text/plain": [
       "400004"
      ]
     },
     "execution_count": 6,
     "metadata": {},
     "output_type": "execute_result"
    }
   ],
   "source": [
    "len(vocab_emb_mapping_dict)"
   ]
  },
  {
   "attachments": {},
   "cell_type": "markdown",
   "metadata": {},
   "source": [
    "#### Create Embedding Layer "
   ]
  },
  {
   "cell_type": "code",
   "execution_count": 7,
   "metadata": {},
   "outputs": [
    {
     "name": "stdout",
     "output_type": "stream",
     "text": [
      "torch.Size([400004, 300])\n"
     ]
    }
   ],
   "source": [
    "glove_embedding_layer = torch.nn.Embedding.from_pretrained(torch.from_numpy(embeddings))\n",
    "\n",
    "assert glove_embedding_layer.weight.shape == embeddings.shape\n",
    "print(glove_embedding_layer.weight.shape)"
   ]
  },
  {
   "attachments": {},
   "cell_type": "markdown",
   "metadata": {},
   "source": [
    "## The Model\n",
    "An unoptimized version of my final model. It contains extra functionality to allow setting the model's embeddings as well as a function to generate a sequence based on a starting sequence."
   ]
  },
  {
   "cell_type": "code",
   "execution_count": 8,
   "metadata": {},
   "outputs": [],
   "source": [
    "import math\n",
    "import torch\n",
    "import torch.nn as nn\n",
    "import torch.nn.functional as F\n",
    "from torch.nn import TransformerEncoder, TransformerEncoderLayer\n",
    "\n",
    "class TransformerModel(nn.Module):\n",
    "    def __init__(self, embedding_matrix, embedding_dim, hidden_dim, num_layers, num_heads, vocab_len, max_len, dropout_p):\n",
    "        super().__init__()\n",
    "        self.embedding_dim = embedding_dim\n",
    "        self.hidden_dim = hidden_dim\n",
    "        self.num_layers = num_layers\n",
    "        self.num_heads = num_heads\n",
    "        self.max_len = max_len\n",
    "        self.dropout_p = dropout_p\n",
    "        \n",
    "        print(embedding_matrix.shape)\n",
    "        print(\"embedding_dim\", embedding_dim)\n",
    "        \n",
    "        self.embedding = nn.Embedding.from_pretrained(embedding_matrix).to(torch.float) # nn.Embedding(vocab_len, embedding_dim)\n",
    "        self.pos_encoder = PositionalEncoding(embedding_dim, max_len, dropout_p)\n",
    "        encoder_layers = TransformerEncoderLayer(hidden_dim, num_heads, hidden_dim * 4, dropout_p)\n",
    "        self.transformer_encoder = TransformerEncoder(encoder_layers, num_layers)\n",
    "        self.decoder = nn.Linear(hidden_dim, vocab_len)\n",
    "        \n",
    "    def forward(self, src):\n",
    "        src = self.embedding(src) * math.sqrt(self.embedding_dim)\n",
    "        src = self.pos_encoder(src)\n",
    "        output = self.transformer_encoder(src)\n",
    "        output = self.decoder(output)\n",
    "        return output\n",
    "\n",
    "\n",
    "class PositionalEncoding(nn.Module):\n",
    "    def __init__(self, d_model, max_len, dropout_p=0.2):\n",
    "        super().__init__()\n",
    "        self.dropout = nn.Dropout(p=dropout_p)\n",
    "        pe = torch.zeros(max_len, d_model)\n",
    "        position = torch.arange(0, max_len, dtype=torch.float).unsqueeze(1)\n",
    "        div_term = torch.exp(torch.arange(0, d_model, 2).float() * (-math.log(10000.0) / d_model))\n",
    "        pe[:, 0::2] = torch.sin(position * div_term)\n",
    "        pe[:, 1::2] = torch.cos(position * div_term)\n",
    "        pe = pe.unsqueeze(0).transpose(0, 1)\n",
    "        self.register_buffer('pe', pe)\n",
    "\n",
    "    def forward(self, x):\n",
    "        x = x + self.pe[:x.size(0), :]\n",
    "        return self.dropout(x)"
   ]
  },
  {
   "attachments": {},
   "cell_type": "markdown",
   "metadata": {},
   "source": [
    "## Defining the Model\n",
    "\n",
    "### Hyperparameters"
   ]
  },
  {
   "cell_type": "code",
   "execution_count": 9,
   "metadata": {},
   "outputs": [],
   "source": [
    "# Define hyperparameters\n",
    "embedding_dim = embeddings.shape[1]\n",
    "hidden_dim = 300\n",
    "num_layers = 2\n",
    "num_heads = 4\n",
    "vocab_len = len(vocab)\n",
    "max_len = 100\n",
    "dropout_p = 0.2"
   ]
  },
  {
   "attachments": {},
   "cell_type": "markdown",
   "metadata": {},
   "source": [
    "### Instantiate the Model"
   ]
  },
  {
   "cell_type": "code",
   "execution_count": 10,
   "metadata": {},
   "outputs": [
    {
     "name": "stdout",
     "output_type": "stream",
     "text": [
      "torch.Size([400004, 300])\n",
      "embedding_dim 300\n"
     ]
    }
   ],
   "source": [
    "# Instantiate Transformer object\n",
    "model = TransformerModel(\n",
    "    embedding_matrix=torch.from_numpy(embeddings),\n",
    "    embedding_dim=embedding_dim,\n",
    "    hidden_dim=hidden_dim,\n",
    "    num_layers=num_layers,\n",
    "    num_heads=num_heads,\n",
    "    vocab_len=vocab_len,\n",
    "    max_len=max_len,\n",
    "    dropout_p=dropout_p\n",
    ").to(device)"
   ]
  },
  {
   "attachments": {},
   "cell_type": "markdown",
   "metadata": {},
   "source": [
    "## Generating Text\n",
    "The generate_seq function associated with my model includes outputs a sequence referencing tokens rather than outputing words. This sequence will need to be converted."
   ]
  },
  {
   "cell_type": "code",
   "execution_count": 18,
   "metadata": {},
   "outputs": [],
   "source": [
    "def generate_sen(model, start_seq, vocab_emb_mapping_dict, max_len=20):\n",
    "    model.eval()\n",
    "    start_tokens = torch.tensor([vocab_emb_mapping_dict[word] for word in start_seq]).unsqueeze(0)\n",
    "    print(\"Start Tokens\", start_tokens)\n",
    "\n",
    "    with torch.no_grad():\n",
    "        for i in range(max_len):\n",
    "            output = model(start_tokens)\n",
    "            output = output[:, -1, :]\n",
    "            probabilities = nn.functional.softmax(output, dim=-1)\n",
    "            next_token = torch.multinomial(probabilities, num_samples=1)\n",
    "            start_tokens = torch.cat([start_tokens, next_token], dim=-1)\n",
    "            if next_token == vocab_emb_mapping_dict['<eos>']:\n",
    "                break\n",
    "            \n",
    "    output_seq = [list(vocab_emb_mapping_dict.keys())[list(vocab_emb_mapping_dict.values()).index(token)] for token in start_tokens.squeeze()]\n",
    "    return output_seq\n"
   ]
  },
  {
   "cell_type": "code",
   "execution_count": 20,
   "metadata": {},
   "outputs": [
    {
     "name": "stdout",
     "output_type": "stream",
     "text": [
      "Start Tokens tensor([[   4, 2586, 1046]])\n",
      "['the', 'quick', 'brown']\n",
      "['the', 'quick', 'brown', '32.57', 'swabians', 'hochwald', 'glamorize', 'kronenbourg', 'askar', 'wiślica', 'jjb', 'maartens', 'danic', 'salpointe', 'scrapyards', 'fearnley', 'concessionary', 'rostro', 'zenobia', 'watered-down', 'armyworms', 'coombe', '(760)', 'fyodorova', 'positron', '19.37', 'lehmans', 'she-devil']\n",
      "28\n"
     ]
    }
   ],
   "source": [
    "start_seq = [\"the\", \"quick\", \"brown\"]\n",
    "\n",
    "out_seq = generate_sen(\n",
    "    model=model,\n",
    "    start_seq=start_seq,\n",
    "    vocab_emb_mapping_dict=vocab_emb_mapping_dict,\n",
    "    max_len=25\n",
    ")\n",
    "\n",
    "print(start_seq)\n",
    "\n",
    "print(out_seq)"
   ]
  }
 ],
 "metadata": {
  "kernelspec": {
   "display_name": "Python 3",
   "language": "python",
   "name": "python3"
  },
  "language_info": {
   "codemirror_mode": {
    "name": "ipython",
    "version": 3
   },
   "file_extension": ".py",
   "mimetype": "text/x-python",
   "name": "python",
   "nbconvert_exporter": "python",
   "pygments_lexer": "ipython3",
   "version": "3.8.10"
  },
  "orig_nbformat": 4
 },
 "nbformat": 4,
 "nbformat_minor": 2
}
